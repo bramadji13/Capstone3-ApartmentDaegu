{
 "cells": [
  {
   "cell_type": "code",
   "execution_count": null,
   "metadata": {},
   "outputs": [],
   "source": [
    "import pandas as pd\n",
    "import numpy as np\n",
    "import pickle\n",
    "import os\n",
    "\n",
    "from sklearn.model_selection import train_test_split\n",
    "from sklearn.preprocessing import StandardScaler, RobustScaler, OneHotEncoder\n",
    "from sklearn.compose import ColumnTransformer\n",
    "from sklearn.pipeline import Pipeline\n",
    "from sklearn.metrics import mean_squared_error, mean_absolute_error, r2_score\n",
    "from sklearn.compose import TransformedTargetRegressor\n",
    "from xgboost import XGBRegressor\n",
    "from google.cloud import storage, bigquery"
   ]
  },
  {
   "cell_type": "code",
   "execution_count": 2,
   "metadata": {},
   "outputs": [],
   "source": [
    "os.environ['GOOGLE_APPLICATION_CREDENTIALS'] = r'C:\\Users\\Asus\\Desktop\\DS Purwa\\Module_3\\Capstone Module 3\\trial_bigq.json'"
   ]
  },
  {
   "cell_type": "code",
   "execution_count": 3,
   "metadata": {},
   "outputs": [],
   "source": [
    "project_id = 'dtidsus'\n",
    "dataset_id = 'capstone'\n",
    "table_id = 'data_daegu_apartment'\n",
    "region = 'us-central1'\n",
    "bucket_name = 'modul4'\n",
    "blob_name = 'adji/data_daegu_apartment.csv'\n",
    "client = bigquery.Client(project='dtidsus')"
   ]
  },
  {
   "cell_type": "code",
   "execution_count": 4,
   "metadata": {},
   "outputs": [
    {
     "name": "stdout",
     "output_type": "stream",
     "text": [
      "Uploading model succeeded\n"
     ]
    }
   ],
   "source": [
    "try : \n",
    "    storage_client = storage.Client(project='dtidsus')\n",
    "    bucket = storage_client.get_bucket(bucket_name)\n",
    "    data_capstone = bucket.blob('adji/data_daegu_apartment.csv')\n",
    "    data_capstone.upload_from_filename(r'C:\\Users\\Asus\\Desktop\\DS Purwa\\Module_3\\Capstone Module 3\\Daegu_Cleaned.csv')\n",
    "\n",
    "    print (\"Uploading model succeeded\")\n",
    "except:\n",
    "    raise TypeError(\"An exception occurred\")"
   ]
  },
  {
   "cell_type": "code",
   "execution_count": 5,
   "metadata": {},
   "outputs": [],
   "source": [
    "client = bigquery.Client('dtidsus')"
   ]
  },
  {
   "cell_type": "code",
   "execution_count": 6,
   "metadata": {},
   "outputs": [],
   "source": [
    "query_job = client.query(f\"\"\"select * from {dataset_id}.{table_id}\"\"\")"
   ]
  },
  {
   "cell_type": "code",
   "execution_count": 7,
   "metadata": {},
   "outputs": [
    {
     "name": "stderr",
     "output_type": "stream",
     "text": [
      "c:\\Users\\Asus\\anaconda3\\Lib\\site-packages\\google\\cloud\\bigquery\\table.py:1727: UserWarning: BigQuery Storage module not found, fetch data with the REST endpoint instead.\n",
      "  warnings.warn(\n"
     ]
    }
   ],
   "source": [
    "df = query_job.result().to_dataframe()"
   ]
  },
  {
   "cell_type": "code",
   "execution_count": 8,
   "metadata": {},
   "outputs": [
    {
     "data": {
      "text/html": [
       "<div>\n",
       "<style scoped>\n",
       "    .dataframe tbody tr th:only-of-type {\n",
       "        vertical-align: middle;\n",
       "    }\n",
       "\n",
       "    .dataframe tbody tr th {\n",
       "        vertical-align: top;\n",
       "    }\n",
       "\n",
       "    .dataframe thead th {\n",
       "        text-align: right;\n",
       "    }\n",
       "</style>\n",
       "<table border=\"1\" class=\"dataframe\">\n",
       "  <thead>\n",
       "    <tr style=\"text-align: right;\">\n",
       "      <th></th>\n",
       "      <th>HallwayType</th>\n",
       "      <th>TimeToSubway</th>\n",
       "      <th>SubwayStation</th>\n",
       "      <th>N_FacilitiesNearBy</th>\n",
       "      <th>N_FacilitiesNearBy_4</th>\n",
       "      <th>N_SchoolNearBy</th>\n",
       "      <th>N_Parkinglot</th>\n",
       "      <th>YearBuilt</th>\n",
       "      <th>N_FacilitiesInApt</th>\n",
       "      <th>Size</th>\n",
       "      <th>SalePrice</th>\n",
       "    </tr>\n",
       "  </thead>\n",
       "  <tbody>\n",
       "    <tr>\n",
       "      <th>0</th>\n",
       "      <td>terraced</td>\n",
       "      <td>10min~15min</td>\n",
       "      <td>Kyungbuk_uni_hospital</td>\n",
       "      <td>1</td>\n",
       "      <td>5</td>\n",
       "      <td>1</td>\n",
       "      <td>0</td>\n",
       "      <td>1986</td>\n",
       "      <td>4</td>\n",
       "      <td>1796</td>\n",
       "      <td>267256</td>\n",
       "    </tr>\n",
       "    <tr>\n",
       "      <th>1</th>\n",
       "      <td>terraced</td>\n",
       "      <td>10min~15min</td>\n",
       "      <td>Kyungbuk_uni_hospital</td>\n",
       "      <td>1</td>\n",
       "      <td>5</td>\n",
       "      <td>1</td>\n",
       "      <td>0</td>\n",
       "      <td>1986</td>\n",
       "      <td>4</td>\n",
       "      <td>1796</td>\n",
       "      <td>221238</td>\n",
       "    </tr>\n",
       "    <tr>\n",
       "      <th>2</th>\n",
       "      <td>terraced</td>\n",
       "      <td>10min~15min</td>\n",
       "      <td>Kyungbuk_uni_hospital</td>\n",
       "      <td>1</td>\n",
       "      <td>5</td>\n",
       "      <td>1</td>\n",
       "      <td>0</td>\n",
       "      <td>1986</td>\n",
       "      <td>4</td>\n",
       "      <td>1796</td>\n",
       "      <td>409734</td>\n",
       "    </tr>\n",
       "    <tr>\n",
       "      <th>3</th>\n",
       "      <td>terraced</td>\n",
       "      <td>10min~15min</td>\n",
       "      <td>Kyungbuk_uni_hospital</td>\n",
       "      <td>1</td>\n",
       "      <td>5</td>\n",
       "      <td>1</td>\n",
       "      <td>0</td>\n",
       "      <td>1986</td>\n",
       "      <td>4</td>\n",
       "      <td>1796</td>\n",
       "      <td>300884</td>\n",
       "    </tr>\n",
       "    <tr>\n",
       "      <th>4</th>\n",
       "      <td>terraced</td>\n",
       "      <td>10min~15min</td>\n",
       "      <td>Kyungbuk_uni_hospital</td>\n",
       "      <td>1</td>\n",
       "      <td>5</td>\n",
       "      <td>1</td>\n",
       "      <td>0</td>\n",
       "      <td>1986</td>\n",
       "      <td>4</td>\n",
       "      <td>1796</td>\n",
       "      <td>371681</td>\n",
       "    </tr>\n",
       "    <tr>\n",
       "      <th>...</th>\n",
       "      <td>...</td>\n",
       "      <td>...</td>\n",
       "      <td>...</td>\n",
       "      <td>...</td>\n",
       "      <td>...</td>\n",
       "      <td>...</td>\n",
       "      <td>...</td>\n",
       "      <td>...</td>\n",
       "      <td>...</td>\n",
       "      <td>...</td>\n",
       "      <td>...</td>\n",
       "    </tr>\n",
       "    <tr>\n",
       "      <th>4118</th>\n",
       "      <td>corridor</td>\n",
       "      <td>5min~10min</td>\n",
       "      <td>Sin-nam</td>\n",
       "      <td>1</td>\n",
       "      <td>5</td>\n",
       "      <td>2</td>\n",
       "      <td>18</td>\n",
       "      <td>1986</td>\n",
       "      <td>3</td>\n",
       "      <td>508</td>\n",
       "      <td>105309</td>\n",
       "    </tr>\n",
       "    <tr>\n",
       "      <th>4119</th>\n",
       "      <td>corridor</td>\n",
       "      <td>5min~10min</td>\n",
       "      <td>Sin-nam</td>\n",
       "      <td>1</td>\n",
       "      <td>5</td>\n",
       "      <td>2</td>\n",
       "      <td>18</td>\n",
       "      <td>1986</td>\n",
       "      <td>3</td>\n",
       "      <td>508</td>\n",
       "      <td>64601</td>\n",
       "    </tr>\n",
       "    <tr>\n",
       "      <th>4120</th>\n",
       "      <td>corridor</td>\n",
       "      <td>5min~10min</td>\n",
       "      <td>Sin-nam</td>\n",
       "      <td>1</td>\n",
       "      <td>5</td>\n",
       "      <td>2</td>\n",
       "      <td>18</td>\n",
       "      <td>1986</td>\n",
       "      <td>3</td>\n",
       "      <td>508</td>\n",
       "      <td>53097</td>\n",
       "    </tr>\n",
       "    <tr>\n",
       "      <th>4121</th>\n",
       "      <td>corridor</td>\n",
       "      <td>5min~10min</td>\n",
       "      <td>Sin-nam</td>\n",
       "      <td>1</td>\n",
       "      <td>5</td>\n",
       "      <td>2</td>\n",
       "      <td>18</td>\n",
       "      <td>1986</td>\n",
       "      <td>3</td>\n",
       "      <td>508</td>\n",
       "      <td>63716</td>\n",
       "    </tr>\n",
       "    <tr>\n",
       "      <th>4122</th>\n",
       "      <td>corridor</td>\n",
       "      <td>5min~10min</td>\n",
       "      <td>Sin-nam</td>\n",
       "      <td>1</td>\n",
       "      <td>5</td>\n",
       "      <td>2</td>\n",
       "      <td>18</td>\n",
       "      <td>1986</td>\n",
       "      <td>3</td>\n",
       "      <td>508</td>\n",
       "      <td>69469</td>\n",
       "    </tr>\n",
       "  </tbody>\n",
       "</table>\n",
       "<p>4123 rows × 11 columns</p>\n",
       "</div>"
      ],
      "text/plain": [
       "     HallwayType TimeToSubway          SubwayStation  N_FacilitiesNearBy  \\\n",
       "0       terraced  10min~15min  Kyungbuk_uni_hospital                   1   \n",
       "1       terraced  10min~15min  Kyungbuk_uni_hospital                   1   \n",
       "2       terraced  10min~15min  Kyungbuk_uni_hospital                   1   \n",
       "3       terraced  10min~15min  Kyungbuk_uni_hospital                   1   \n",
       "4       terraced  10min~15min  Kyungbuk_uni_hospital                   1   \n",
       "...          ...          ...                    ...                 ...   \n",
       "4118    corridor   5min~10min                Sin-nam                   1   \n",
       "4119    corridor   5min~10min                Sin-nam                   1   \n",
       "4120    corridor   5min~10min                Sin-nam                   1   \n",
       "4121    corridor   5min~10min                Sin-nam                   1   \n",
       "4122    corridor   5min~10min                Sin-nam                   1   \n",
       "\n",
       "      N_FacilitiesNearBy_4  N_SchoolNearBy  N_Parkinglot  YearBuilt  \\\n",
       "0                        5               1             0       1986   \n",
       "1                        5               1             0       1986   \n",
       "2                        5               1             0       1986   \n",
       "3                        5               1             0       1986   \n",
       "4                        5               1             0       1986   \n",
       "...                    ...             ...           ...        ...   \n",
       "4118                     5               2            18       1986   \n",
       "4119                     5               2            18       1986   \n",
       "4120                     5               2            18       1986   \n",
       "4121                     5               2            18       1986   \n",
       "4122                     5               2            18       1986   \n",
       "\n",
       "      N_FacilitiesInApt  Size  SalePrice  \n",
       "0                     4  1796     267256  \n",
       "1                     4  1796     221238  \n",
       "2                     4  1796     409734  \n",
       "3                     4  1796     300884  \n",
       "4                     4  1796     371681  \n",
       "...                 ...   ...        ...  \n",
       "4118                  3   508     105309  \n",
       "4119                  3   508      64601  \n",
       "4120                  3   508      53097  \n",
       "4121                  3   508      63716  \n",
       "4122                  3   508      69469  \n",
       "\n",
       "[4123 rows x 11 columns]"
      ]
     },
     "execution_count": 8,
     "metadata": {},
     "output_type": "execute_result"
    }
   ],
   "source": [
    "df"
   ]
  },
  {
   "cell_type": "code",
   "execution_count": 22,
   "metadata": {},
   "outputs": [],
   "source": [
    "numerical_col_standard = ['N_FacilitiesNearBy', 'N_FacilitiesNearBy_4', \n",
    "                          'N_SchoolNearBy', 'YearBuilt', 'Size']\n",
    "numerical_col_robust = ['N_Parkinglot']\n",
    "categorical_col = ['HallwayType', 'TimeToSubway', 'SubwayStation']\n"
   ]
  },
  {
   "cell_type": "code",
   "execution_count": 23,
   "metadata": {},
   "outputs": [],
   "source": [
    "# Feature vs Target\n",
    "X = df.drop(columns='SalePrice', axis=1)\n",
    "y = df['SalePrice']\n",
    "\n",
    "# Split data\n",
    "X_train, X_test, y_train, y_test = train_test_split(X, y, test_size=0.2, random_state=42)"
   ]
  },
  {
   "cell_type": "code",
   "execution_count": 24,
   "metadata": {},
   "outputs": [],
   "source": [
    "# Preprocessing\n",
    "ct = ColumnTransformer(transformers=[('Standard', StandardScaler(), numerical_col_standard),\n",
    "                                     ('Robuts', RobustScaler(), numerical_col_robust),\n",
    "                                     ('OneHot', OneHotEncoder(handle_unknown='ignore'), categorical_col)\n",
    "                                     ])"
   ]
  },
  {
   "cell_type": "code",
   "execution_count": 25,
   "metadata": {},
   "outputs": [],
   "source": [
    "# Pipeline\n",
    "model = TransformedTargetRegressor(regressor=XGBRegressor(\n",
    "        colsample_bytree = 0.8,\n",
    "        gamma = 0,\n",
    "        learning_rate = 0.2,\n",
    "        max_depth = 3,\n",
    "        n_estimators = 100,\n",
    "        subsample = 0.8,\n",
    "        random_state = 42\n",
    "    ), func = np.log1p, \n",
    "    inverse_func = np.expm1\n",
    "    )\n",
    "\n",
    "pipeline = Pipeline(steps=[('preprocessor', ct), ('model', model)])"
   ]
  },
  {
   "cell_type": "code",
   "execution_count": 27,
   "metadata": {},
   "outputs": [],
   "source": [
    "# Fit pipeline\n",
    "\n",
    "pipeline.fit(X_train, y_train)\n",
    "\n",
    "y_pred = pipeline.predict(X_test)\n",
    "mse = mean_squared_error(y_test, y_pred)\n",
    "rmse = np.sqrt(mse)\n",
    "mae = mean_absolute_error(y_test, y_pred)\n",
    "r2 = r2_score(y_test, y_pred)"
   ]
  },
  {
   "cell_type": "code",
   "execution_count": 28,
   "metadata": {},
   "outputs": [
    {
     "name": "stdout",
     "output_type": "stream",
     "text": [
      "RMSE:  42483.838010404885\n",
      "MAE:  32882.53477746212\n",
      "R2:  0.8375235795974731\n"
     ]
    }
   ],
   "source": [
    "print('RMSE: ', rmse)\n",
    "print('MAE: ', mae)\n",
    "print('R2: ', r2)"
   ]
  },
  {
   "cell_type": "code",
   "execution_count": 29,
   "metadata": {},
   "outputs": [],
   "source": [
    "# Save model\n",
    "model_filename = 'model.pkl'\n",
    "pickle.dump(model, open(model_filename, 'wb'))"
   ]
  },
  {
   "cell_type": "code",
   "execution_count": 30,
   "metadata": {},
   "outputs": [
    {
     "name": "stdout",
     "output_type": "stream",
     "text": [
      "Uploading model succeeded\n"
     ]
    }
   ],
   "source": [
    "# Upload to Google Cloud Platform\n",
    "\n",
    "try:\n",
    "    storage_client = storage.Client(project=project_id)\n",
    "    bucket = storage_client.get_bucket(bucket_name)\n",
    "    blob_model = bucket.blob('ilham/model/model.pkl')\n",
    "    blob_model.upload_from_filename(model_filename)\n",
    "\n",
    "    print(\"Uploading model succeeded\")\n",
    "except Exception as e:\n",
    "    print(\"An exception occurred while uploading the model:\", e)"
   ]
  }
 ],
 "metadata": {
  "kernelspec": {
   "display_name": "base",
   "language": "python",
   "name": "python3"
  },
  "language_info": {
   "codemirror_mode": {
    "name": "ipython",
    "version": 3
   },
   "file_extension": ".py",
   "mimetype": "text/x-python",
   "name": "python",
   "nbconvert_exporter": "python",
   "pygments_lexer": "ipython3",
   "version": "3.12.7"
  }
 },
 "nbformat": 4,
 "nbformat_minor": 2
}
